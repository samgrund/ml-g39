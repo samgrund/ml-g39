{
 "cells": [
  {
   "cell_type": "code",
   "execution_count": 2,
   "metadata": {},
   "outputs": [],
   "source": [
    "import numpy as np\n",
    "import FileReader as FR\n",
    "\n",
    "import viterbi"
   ]
  },
  {
   "cell_type": "code",
   "execution_count": 3,
   "metadata": {},
   "outputs": [],
   "source": [
    "gen1 = FR.read_fasta_file('./data-handin3/genome1.fa')['genome1']\n",
    "ann1 = FR.read_fasta_file('./data-handin3/true-ann1.fa')['true-ann1']"
   ]
  },
  {
   "cell_type": "code",
   "execution_count": 4,
   "metadata": {},
   "outputs": [],
   "source": [
    "E = np.array([\n",
    "    [0.199, 0.318,0.161,0.322],\n",
    "    [0.313,0.137,0.198,0.352],\n",
    "    [0.399,0.132,0.129,0.34],\n",
    "    [0.334,0.165,0.166,0.335],\n",
    "    [0.321,0.159,0.323,0.197],\n",
    "    [0.353,0.2,0.136,0.311],\n",
    "    [0.339,0.13,0.131,0.4]\n",
    "]) # ACGT\n",
    "\n",
    "T = np.array([\n",
    "    [0,0,0.997,0.003,0,0,0],\n",
    "    [1,0,0,0,0,0,0],\n",
    "    [0,1,0,0,0,0,0],\n",
    "    [0,0,0.003,0.994,0.003,0,0],\n",
    "    [0,0,0,0,0,1,0],\n",
    "    [0,0,0,0,0,0,1],\n",
    "    [0,0,0,0.003,0.997,0,0]\n",
    "])\n",
    "\n",
    "pi = np.array([0,0,0,1,0,0,0])\n",
    "\n",
    "E = E.clip(min=1e-10)\n",
    "T = T.clip(min=1e-10)\n",
    "pi = pi.clip(min=1e-10)"
   ]
  },
  {
   "cell_type": "code",
   "execution_count": 5,
   "metadata": {},
   "outputs": [],
   "source": [
    "N = len(gen1)\n",
    "obs = np.empty(N,dtype=int)\n",
    "for i in range(N):\n",
    "    if gen1[i] == 'A':\n",
    "        obs[i] = 0\n",
    "    elif gen1[i] == 'C':\n",
    "        obs[i] = 1\n",
    "    elif gen1[i] == 'G':\n",
    "        obs[i] = 2\n",
    "    elif gen1[i] == 'T':\n",
    "        obs[i] = 3\n",
    "    else:\n",
    "        print('Char error at', i)\n"
   ]
  },
  {
   "cell_type": "code",
   "execution_count": 6,
   "metadata": {},
   "outputs": [],
   "source": [
    "x = viterbi.log_viterbi(obs, pi, T, E)"
   ]
  },
  {
   "cell_type": "code",
   "execution_count": 9,
   "metadata": {},
   "outputs": [],
   "source": [
    "pred = np.empty(N,dtype=str)\n",
    "pred[x < 3]  = 'R'\n",
    "pred[x == 3] = 'N'\n",
    "pred[x > 3]  = 'C'"
   ]
  },
  {
   "cell_type": "code",
   "execution_count": 10,
   "metadata": {},
   "outputs": [],
   "source": [
    "np.savetxt('./predictions/pred1.txt', pred, fmt='%s',newline='',header='>pred1\\n',comments='')"
   ]
  },
  {
   "cell_type": "code",
   "execution_count": 56,
   "metadata": {},
   "outputs": [],
   "source": [
    "def write_fasta(dictionary, filename):\n",
    "    \"\"\"\n",
    "    Takes a dictionary and writes it to a fasta file\n",
    "    Must specify the filename when caling the function\n",
    "    \"\"\"\n",
    "\n",
    "    import textwrap\n",
    "    with open(filename, \"w\") as outfile:\n",
    "        for key, value in dictionary.items():\n",
    "            outfile.write(\">\"  + key + \"\\n\")\n",
    "            outfile.write(\"\\n\".join(textwrap.wrap(value, 60)))\n",
    "            outfile.write(\"\\n\")\n",
    "\n",
    "    print(\"Success! File written\")"
   ]
  },
  {
   "cell_type": "code",
   "execution_count": 53,
   "metadata": {},
   "outputs": [],
   "source": [
    "pred_dict = {'pred1': ''.join(pred)}"
   ]
  },
  {
   "cell_type": "code",
   "execution_count": 57,
   "metadata": {},
   "outputs": [
    {
     "name": "stdout",
     "output_type": "stream",
     "text": [
      "Success! File written\n"
     ]
    }
   ],
   "source": [
    "write_fasta(pred_dict, './predictions/pred1.fa')"
   ]
  },
  {
   "cell_type": "code",
   "execution_count": null,
   "metadata": {},
   "outputs": [],
   "source": [
    "ann = {\n",
    "    'genome6': 'NNNNNRNNRN',\n",
    "    'genome7': 'NNNNNNNNNN',\n",
    "    'genome8': 'NNNNNNNNNN',\n",
    "    'genome9': 'NNNNNNNNNN',\n",
    "    'genome10': 'NNNNNNNNNN',\n",
    "}"
   ]
  }
 ],
 "metadata": {
  "kernelspec": {
   "display_name": "Python 3.7.8 64-bit",
   "language": "python",
   "name": "python3"
  },
  "language_info": {
   "codemirror_mode": {
    "name": "ipython",
    "version": 3
   },
   "file_extension": ".py",
   "mimetype": "text/x-python",
   "name": "python",
   "nbconvert_exporter": "python",
   "pygments_lexer": "ipython3",
   "version": "3.7.8"
  },
  "orig_nbformat": 4,
  "vscode": {
   "interpreter": {
    "hash": "949777d72b0d2535278d3dc13498b2535136f6dfe0678499012e853ee9abcab1"
   }
  }
 },
 "nbformat": 4,
 "nbformat_minor": 2
}
